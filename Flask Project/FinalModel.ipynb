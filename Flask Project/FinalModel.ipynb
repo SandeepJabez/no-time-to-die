{
  "cells": [
    {
      "cell_type": "code",
      "execution_count": 1,
      "metadata": {
        "id": "2Dx6DSqd6VbE"
      },
      "outputs": [],
      "source": [
        "import pandas as pd\n",
        "import numpy as np\n",
        "import matplotlib.pyplot as plt\n",
        "import seaborn as sns \n",
        "import random\n",
        "# data preprocessing\n",
        "from sklearn.preprocessing import LabelEncoder\n",
        "from sklearn.preprocessing import MinMaxScaler\n",
        "from sklearn.preprocessing import StandardScaler\n",
        "from sklearn.model_selection import train_test_split as tts\n",
        "# data modeling\n",
        "# from tensorflow.keras.models import Sequential\n",
        "# from tensorflow.keras.layers import Dense, Activation\n",
        "# from tensorflow.keras.optimizers import Adam\n",
        "# from tensorflow.keras import regularizers\n",
        "# evaluation\n",
        "from sklearn.metrics import mean_absolute_error,mean_squared_error,r2_score\n",
        "\n",
        "# hide warnings\n",
        "import warnings\n",
        "warnings.filterwarnings('ignore')\n",
        "from sklearn.decomposition import PCA\n",
        "\n",
        "import numpy as np\n",
        "import pandas as pd\n",
        "import matplotlib.pyplot as plt\n",
        "import seaborn as sns\n",
        "from sklearn.model_selection import train_test_split as tts\n",
        "from sklearn.tree import DecisionTreeRegressor\n",
        "from xgboost import XGBRegressor\n",
        "from sklearn.ensemble import RandomForestRegressor\n",
        "from sklearn.linear_model import LinearRegression\n",
        "from sklearn.metrics import r2_score\n",
        "from sklearn.metrics import mean_absolute_error\n",
        "from sklearn.metrics import mean_squared_error\n",
        "from sklearn.preprocessing import LabelEncoder\n",
        "from sklearn.preprocessing import StandardScaler\n",
        "from sklearn.preprocessing import MinMaxScaler\n",
        "from sklearn.decomposition import PCA"
      ]
    },
    {
      "cell_type": "code",
      "execution_count": 3,
      "metadata": {
        "id": "d-3YeeC76VbJ"
      },
      "outputs": [],
      "source": [
        "df = pd.read_csv(\"Life Expectancy Data_HV22.csv\")"
      ]
    },
    {
      "cell_type": "code",
      "execution_count": 4,
      "metadata": {
        "id": "qUpaCUYG6VbK"
      },
      "outputs": [],
      "source": [
        "df.columns = df.columns.str.strip()"
      ]
    },
    {
      "cell_type": "code",
      "execution_count": 5,
      "metadata": {
        "id": "JyIRebFY6VbK",
        "outputId": "39768c55-362a-4265-d1da-0ae676dfde50"
      },
      "outputs": [
        {
          "name": "stdout",
          "output_type": "stream",
          "text": [
            "The column Life expectancy has 10 null values\n",
            "The column Adult Mortality has 10 null values\n",
            "The column Alcohol has 194 null values\n",
            "The column Hepatitis B has 553 null values\n",
            "The column BMI has 34 null values\n",
            "The column Polio has 19 null values\n",
            "The column Total expenditure has 226 null values\n",
            "The column Diphtheria has 19 null values\n",
            "The column GDP has 448 null values\n",
            "The column Population has 652 null values\n",
            "The column thinness  1-19 years has 34 null values\n",
            "The column thinness 5-9 years has 34 null values\n",
            "The column Income composition of resources has 167 null values\n",
            "The column Schooling has 163 null values\n"
          ]
        }
      ],
      "source": [
        "col_null = df.columns[df.isna().any()].tolist()\n",
        "for i in col_null:\n",
        "    null = df[i].isna().sum()\n",
        "    null = str(null)\n",
        "    print(\"The column {} has {} null values\".format(i, null))"
      ]
    },
    {
      "cell_type": "code",
      "execution_count": 6,
      "metadata": {
        "id": "Maam5SbsYDee",
        "scrolled": true
      },
      "outputs": [],
      "source": [
        "for i in col_null:\n",
        "    df[i].fillna((df[i].mean()), inplace=True)"
      ]
    },
    {
      "cell_type": "code",
      "execution_count": 7,
      "metadata": {
        "id": "zR5TfwUpsbHq"
      },
      "outputs": [],
      "source": [
        "class MultiColumnLabelEncoder:\n",
        "\n",
        "    def __init__(self, columns=None):\n",
        "        self.columns = columns # array of column names to encode\n",
        "\n",
        "\n",
        "    def fit(self, X, y=None):\n",
        "        self.encoders = {}\n",
        "        columns = X.columns if self.columns is None else self.columns\n",
        "        for col in columns:\n",
        "            self.encoders[col] = LabelEncoder().fit(X[col])\n",
        "        return self\n",
        "\n",
        "\n",
        "    def transform(self, X):\n",
        "        output = X.copy()\n",
        "        columns = X.columns if self.columns is None else self.columns\n",
        "        for col in columns:\n",
        "            output[col] = self.encoders[col].transform(X[col])\n",
        "        return output\n",
        "\n",
        "\n",
        "    def fit_transform(self, X, y=None):\n",
        "        return self.fit(X,y).transform(X)\n",
        "\n",
        "\n",
        "    def inverse_transform(self, X):\n",
        "        output = X.copy()\n",
        "        columns = X.columns if self.columns is None else self.columns\n",
        "        for col in columns:\n",
        "            output[col] = self.encoders[col].inverse_transform(X[col])\n",
        "        return output"
      ]
    },
    {
      "cell_type": "code",
      "execution_count": 8,
      "metadata": {
        "id": "uvCeQLcYsYuL"
      },
      "outputs": [],
      "source": [
        "cat_features = [feature for feature in df.columns if df[feature].dtype in ['object', 'bool_']]\n",
        "multi = MultiColumnLabelEncoder(columns=cat_features)\n",
        "df = multi.fit_transform(df)"
      ]
    },
    {
      "cell_type": "code",
      "execution_count": 9,
      "metadata": {
        "id": "Rb9g3vwU6VbP"
      },
      "outputs": [
        {
          "ename": "NameError",
          "evalue": "name 'dump' is not defined",
          "output_type": "error",
          "traceback": [
            "\u001b[1;31m---------------------------------------------------------------------------\u001b[0m",
            "\u001b[1;31mNameError\u001b[0m                                 Traceback (most recent call last)",
            "\u001b[1;32mc:\\Users\\sande\\Desktop\\proper\\FinalModel.ipynb Cell 8\u001b[0m in \u001b[0;36m<cell line: 1>\u001b[1;34m()\u001b[0m\n\u001b[1;32m----> <a href='vscode-notebook-cell:/c%3A/Users/sande/Desktop/proper/FinalModel.ipynb#X10sZmlsZQ%3D%3D?line=0'>1</a>\u001b[0m dump(multi, \u001b[39mopen\u001b[39m(\u001b[39m'\u001b[39m\u001b[39mencoder.pkl\u001b[39m\u001b[39m'\u001b[39m, \u001b[39m'\u001b[39m\u001b[39mwb\u001b[39m\u001b[39m'\u001b[39m))\n",
            "\u001b[1;31mNameError\u001b[0m: name 'dump' is not defined"
          ]
        }
      ],
      "source": [
        "dump(multi, open('encoder.pkl', 'wb'))"
      ]
    },
    {
      "cell_type": "code",
      "execution_count": 18,
      "metadata": {
        "colab": {
          "base_uri": "https://localhost:8080/"
        },
        "id": "p8bVAgoZqvLg",
        "outputId": "d7c4ec9d-ffe5-4232-e27f-73b4fb5ca577"
      },
      "outputs": [
        {
          "name": "stdout",
          "output_type": "stream",
          "text": [
            "[[0.         1.         1.         ... 0.60350877 0.50527426 0.48792271]\n",
            " [0.         0.93333333 1.         ... 0.61052632 0.5021097  0.48309179]\n",
            " [0.         0.86666667 1.         ... 0.61754386 0.49578059 0.47826087]\n",
            " ...\n",
            " [1.         0.13333333 1.         ... 0.04210526 0.45042194 0.48309179]\n",
            " [1.         0.06666667 1.         ... 0.05614035 0.45042194 0.47342995]\n",
            " [1.         0.         1.         ... 0.38947368 0.45780591 0.47342995]]\n"
          ]
        }
      ],
      "source": [
        "df_min_max_scaled = df.copy()\n",
        "\n",
        "scaler = MinMaxScaler()\n",
        "scaler.fit(df_min_max_scaled)\n",
        "# apply normalization techniques\n",
        "df_min_max_scaled = scaler.transform(df_min_max_scaled)\n",
        "\n",
        "# view normalized data\n",
        "print(df_min_max_scaled)"
      ]
    },
    {
      "cell_type": "code",
      "execution_count": 19,
      "metadata": {
        "id": "EriKIooNsDvO"
      },
      "outputs": [],
      "source": [
        "df_min_max_scaled = pd.DataFrame(data = df_min_max_scaled, columns = df.columns)"
      ]
    },
    {
      "cell_type": "code",
      "execution_count": 20,
      "metadata": {},
      "outputs": [],
      "source": [
        "import pickle\n",
        "#\n"
      ]
    },
    {
      "cell_type": "code",
      "execution_count": 21,
      "metadata": {
        "id": "NHpHCjne6VbS"
      },
      "outputs": [],
      "source": [
        "pickle.dump(scaler, open('scaler.pkl', 'wb'))"
      ]
    },
    {
      "cell_type": "code",
      "execution_count": 22,
      "metadata": {
        "id": "Dx0uBru76VbS",
        "outputId": "6cf964cd-5ecf-4770-e23d-bdc74572103f"
      },
      "outputs": [
        {
          "name": "stdout",
          "output_type": "stream",
          "text": [
            "XGBRegressor\n",
            "rmse:  0.03644841259527988\n",
            "r2 score:  0.9601590056228894\n"
          ]
        }
      ],
      "source": [
        "X = df_min_max_scaled[['Income composition of resources','Country','Adult Mortality','BMI','HIV/AIDS','Schooling']]\n",
        "y = df_min_max_scaled['Life expectancy']\n",
        "\n",
        "X_train, X_test, y_train, y_test = tts(X, y, test_size=0.4, random_state=49)\n",
        "\n",
        "X_train.head()\n",
        "\n",
        "model =XGBRegressor()\n",
        "model.fit(X_train, y_train)\n",
        "y_pred = model.predict(X_test)\n",
        "mse = mean_squared_error(y_test, y_pred)\n",
        "r2 = r2_score(y_test, y_pred)\n",
        "print(\"XGBRegressor\")\n",
        "print(\"rmse: \",np.sqrt(mse))\n",
        "print(\"r2 score: \",r2)\n"
      ]
    },
    {
      "cell_type": "code",
      "execution_count": 23,
      "metadata": {
        "id": "SuuCtC3Z6VbT"
      },
      "outputs": [],
      "source": [
        "from pickle import dump"
      ]
    },
    {
      "cell_type": "code",
      "execution_count": 25,
      "metadata": {
        "id": "9PYb4qe06VbU"
      },
      "outputs": [],
      "source": [
        "dump(model, open('model.pkl', 'wb'))"
      ]
    },
    {
      "cell_type": "code",
      "execution_count": 29,
      "metadata": {
        "id": "liz5vLf36VbU"
      },
      "outputs": [
        {
          "name": "stdout",
          "output_type": "stream",
          "text": [
            "<option value=\"1\">Afghanistan</option>\n",
            "<option value=\"2\">Albania</option>\n",
            "<option value=\"3\">Algeria</option>\n",
            "<option value=\"4\">Angola</option>\n",
            "<option value=\"5\">Antigua and Barbuda</option>\n",
            "<option value=\"6\">Argentina</option>\n",
            "<option value=\"7\">Armenia</option>\n",
            "<option value=\"8\">Australia</option>\n",
            "<option value=\"9\">Austria</option>\n",
            "<option value=\"10\">Azerbaijan</option>\n",
            "<option value=\"11\">Bahamas</option>\n",
            "<option value=\"12\">Bahrain</option>\n",
            "<option value=\"13\">Bangladesh</option>\n",
            "<option value=\"14\">Barbados</option>\n",
            "<option value=\"15\">Belarus</option>\n",
            "<option value=\"16\">Belgium</option>\n",
            "<option value=\"17\">Belize</option>\n",
            "<option value=\"18\">Benin</option>\n",
            "<option value=\"19\">Bhutan</option>\n",
            "<option value=\"20\">Bolivia (Plurinational State of)</option>\n",
            "<option value=\"21\">Bosnia and Herzegovina</option>\n",
            "<option value=\"22\">Botswana</option>\n",
            "<option value=\"23\">Brazil</option>\n",
            "<option value=\"24\">Brunei Darussalam</option>\n",
            "<option value=\"25\">Bulgaria</option>\n",
            "<option value=\"26\">Burkina Faso</option>\n",
            "<option value=\"27\">Burundi</option>\n",
            "<option value=\"28\">Côte d'Ivoire</option>\n",
            "<option value=\"29\">Cabo Verde</option>\n",
            "<option value=\"30\">Cambodia</option>\n",
            "<option value=\"31\">Cameroon</option>\n",
            "<option value=\"32\">Canada</option>\n",
            "<option value=\"33\">Central African Republic</option>\n",
            "<option value=\"34\">Chad</option>\n",
            "<option value=\"35\">Chile</option>\n",
            "<option value=\"36\">China</option>\n",
            "<option value=\"37\">Colombia</option>\n",
            "<option value=\"38\">Comoros</option>\n",
            "<option value=\"39\">Congo</option>\n",
            "<option value=\"40\">Cook Islands</option>\n",
            "<option value=\"41\">Costa Rica</option>\n",
            "<option value=\"42\">Croatia</option>\n",
            "<option value=\"43\">Cuba</option>\n",
            "<option value=\"44\">Cyprus</option>\n",
            "<option value=\"45\">Czechia</option>\n",
            "<option value=\"46\">Democratic People's Republic of Korea</option>\n",
            "<option value=\"47\">Democratic Republic of the Congo</option>\n",
            "<option value=\"48\">Denmark</option>\n",
            "<option value=\"49\">Djibouti</option>\n",
            "<option value=\"50\">Dominica</option>\n",
            "<option value=\"51\">Dominican Republic</option>\n",
            "<option value=\"52\">Ecuador</option>\n",
            "<option value=\"53\">Egypt</option>\n",
            "<option value=\"54\">El Salvador</option>\n",
            "<option value=\"55\">Equatorial Guinea</option>\n",
            "<option value=\"56\">Eritrea</option>\n",
            "<option value=\"57\">Estonia</option>\n",
            "<option value=\"58\">Ethiopia</option>\n",
            "<option value=\"59\">Fiji</option>\n",
            "<option value=\"60\">Finland</option>\n",
            "<option value=\"61\">France</option>\n",
            "<option value=\"62\">Gabon</option>\n",
            "<option value=\"63\">Gambia</option>\n",
            "<option value=\"64\">Georgia</option>\n",
            "<option value=\"65\">Germany</option>\n",
            "<option value=\"66\">Ghana</option>\n",
            "<option value=\"67\">Greece</option>\n",
            "<option value=\"68\">Grenada</option>\n",
            "<option value=\"69\">Guatemala</option>\n",
            "<option value=\"70\">Guinea</option>\n",
            "<option value=\"71\">Guinea-Bissau</option>\n",
            "<option value=\"72\">Guyana</option>\n",
            "<option value=\"73\">Haiti</option>\n",
            "<option value=\"74\">Honduras</option>\n",
            "<option value=\"75\">Hungary</option>\n",
            "<option value=\"76\">Iceland</option>\n",
            "<option value=\"77\">India</option>\n",
            "<option value=\"78\">Indonesia</option>\n",
            "<option value=\"79\">Iran (Islamic Republic of)</option>\n",
            "<option value=\"80\">Iraq</option>\n",
            "<option value=\"81\">Ireland</option>\n",
            "<option value=\"82\">Israel</option>\n",
            "<option value=\"83\">Italy</option>\n",
            "<option value=\"84\">Jamaica</option>\n",
            "<option value=\"85\">Japan</option>\n",
            "<option value=\"86\">Jordan</option>\n",
            "<option value=\"87\">Kazakhstan</option>\n",
            "<option value=\"88\">Kenya</option>\n",
            "<option value=\"89\">Kiribati</option>\n",
            "<option value=\"90\">Kuwait</option>\n",
            "<option value=\"91\">Kyrgyzstan</option>\n",
            "<option value=\"92\">Lao People's Democratic Republic</option>\n",
            "<option value=\"93\">Latvia</option>\n",
            "<option value=\"94\">Lebanon</option>\n",
            "<option value=\"95\">Lesotho</option>\n",
            "<option value=\"96\">Liberia</option>\n",
            "<option value=\"97\">Libya</option>\n",
            "<option value=\"98\">Lithuania</option>\n",
            "<option value=\"99\">Luxembourg</option>\n",
            "<option value=\"100\">Madagascar</option>\n",
            "<option value=\"101\">Malawi</option>\n",
            "<option value=\"102\">Malaysia</option>\n",
            "<option value=\"103\">Maldives</option>\n",
            "<option value=\"104\">Mali</option>\n",
            "<option value=\"105\">Malta</option>\n",
            "<option value=\"106\">Marshall Islands</option>\n",
            "<option value=\"107\">Mauritania</option>\n",
            "<option value=\"108\">Mauritius</option>\n",
            "<option value=\"109\">Mexico</option>\n",
            "<option value=\"110\">Micronesia (Federated States of)</option>\n",
            "<option value=\"111\">Monaco</option>\n",
            "<option value=\"112\">Mongolia</option>\n",
            "<option value=\"113\">Montenegro</option>\n",
            "<option value=\"114\">Morocco</option>\n",
            "<option value=\"115\">Mozambique</option>\n",
            "<option value=\"116\">Myanmar</option>\n",
            "<option value=\"117\">Namibia</option>\n",
            "<option value=\"118\">Nauru</option>\n",
            "<option value=\"119\">Nepal</option>\n",
            "<option value=\"120\">Netherlands</option>\n",
            "<option value=\"121\">New Zealand</option>\n",
            "<option value=\"122\">Nicaragua</option>\n",
            "<option value=\"123\">Niger</option>\n",
            "<option value=\"124\">Nigeria</option>\n",
            "<option value=\"125\">Niue</option>\n",
            "<option value=\"126\">Norway</option>\n",
            "<option value=\"127\">Oman</option>\n",
            "<option value=\"128\">Pakistan</option>\n",
            "<option value=\"129\">Palau</option>\n",
            "<option value=\"130\">Panama</option>\n",
            "<option value=\"131\">Papua New Guinea</option>\n",
            "<option value=\"132\">Paraguay</option>\n",
            "<option value=\"133\">Peru</option>\n",
            "<option value=\"134\">Philippines</option>\n",
            "<option value=\"135\">Poland</option>\n",
            "<option value=\"136\">Portugal</option>\n",
            "<option value=\"137\">Qatar</option>\n",
            "<option value=\"138\">Republic of Korea</option>\n",
            "<option value=\"139\">Republic of Moldova</option>\n",
            "<option value=\"140\">Romania</option>\n",
            "<option value=\"141\">Russian Federation</option>\n",
            "<option value=\"142\">Rwanda</option>\n",
            "<option value=\"143\">Saint Kitts and Nevis</option>\n",
            "<option value=\"144\">Saint Lucia</option>\n",
            "<option value=\"145\">Saint Vincent and the Grenadines</option>\n",
            "<option value=\"146\">Samoa</option>\n",
            "<option value=\"147\">San Marino</option>\n",
            "<option value=\"148\">Sao Tome and Principe</option>\n",
            "<option value=\"149\">Saudi Arabia</option>\n",
            "<option value=\"150\">Senegal</option>\n",
            "<option value=\"151\">Serbia</option>\n",
            "<option value=\"152\">Seychelles</option>\n",
            "<option value=\"153\">Sierra Leone</option>\n",
            "<option value=\"154\">Singapore</option>\n",
            "<option value=\"155\">Slovakia</option>\n",
            "<option value=\"156\">Slovenia</option>\n",
            "<option value=\"157\">Solomon Islands</option>\n",
            "<option value=\"158\">Somalia</option>\n",
            "<option value=\"159\">South Africa</option>\n",
            "<option value=\"160\">South Sudan</option>\n",
            "<option value=\"161\">Spain</option>\n",
            "<option value=\"162\">Sri Lanka</option>\n",
            "<option value=\"163\">Sudan</option>\n",
            "<option value=\"164\">Suriname</option>\n",
            "<option value=\"165\">Swaziland</option>\n",
            "<option value=\"166\">Sweden</option>\n",
            "<option value=\"167\">Switzerland</option>\n",
            "<option value=\"168\">Syrian Arab Republic</option>\n",
            "<option value=\"169\">Tajikistan</option>\n",
            "<option value=\"170\">Thailand</option>\n",
            "<option value=\"171\">The former Yugoslav republic of Macedonia</option>\n",
            "<option value=\"172\">Timor-Leste</option>\n",
            "<option value=\"173\">Togo</option>\n",
            "<option value=\"174\">Tonga</option>\n",
            "<option value=\"175\">Trinidad and Tobago</option>\n",
            "<option value=\"176\">Tunisia</option>\n",
            "<option value=\"177\">Turkey</option>\n",
            "<option value=\"178\">Turkmenistan</option>\n",
            "<option value=\"179\">Tuvalu</option>\n",
            "<option value=\"180\">Uganda</option>\n",
            "<option value=\"181\">Ukraine</option>\n",
            "<option value=\"182\">United Arab Emirates</option>\n",
            "<option value=\"183\">United Kingdom of Great Britain and Northern Ireland</option>\n",
            "<option value=\"184\">United Republic of Tanzania</option>\n",
            "<option value=\"185\">United States of America</option>\n",
            "<option value=\"186\">Uruguay</option>\n",
            "<option value=\"187\">Uzbekistan</option>\n",
            "<option value=\"188\">Vanuatu</option>\n",
            "<option value=\"189\">Venezuela (Bolivarian Republic of)</option>\n",
            "<option value=\"190\">Viet Nam</option>\n",
            "<option value=\"191\">Yemen</option>\n",
            "<option value=\"192\">Zambia</option>\n",
            "<option value=\"193\">Zimbabwe</option>\n"
          ]
        }
      ],
      "source": [
        "list1=['Afghanistan', 'Albania', 'Algeria', 'Angola',\n",
        "       'Antigua and Barbuda', 'Argentina', 'Armenia', 'Australia',\n",
        "       'Austria', 'Azerbaijan', 'Bahamas', 'Bahrain', 'Bangladesh',\n",
        "       'Barbados', 'Belarus', 'Belgium', 'Belize', 'Benin', 'Bhutan',\n",
        "       'Bolivia (Plurinational State of)', 'Bosnia and Herzegovina',\n",
        "       'Botswana', 'Brazil', 'Brunei Darussalam', 'Bulgaria',\n",
        "       'Burkina Faso', 'Burundi', \"Côte d'Ivoire\", 'Cabo Verde',\n",
        "       'Cambodia', 'Cameroon', 'Canada', 'Central African Republic',\n",
        "       'Chad', 'Chile', 'China', 'Colombia', 'Comoros', 'Congo',\n",
        "       'Cook Islands', 'Costa Rica', 'Croatia', 'Cuba', 'Cyprus',\n",
        "       'Czechia', \"Democratic People's Republic of Korea\",\n",
        "       'Democratic Republic of the Congo', 'Denmark', 'Djibouti',\n",
        "       'Dominica', 'Dominican Republic', 'Ecuador', 'Egypt',\n",
        "       'El Salvador', 'Equatorial Guinea', 'Eritrea', 'Estonia',\n",
        "       'Ethiopia', 'Fiji', 'Finland', 'France', 'Gabon', 'Gambia',\n",
        "       'Georgia', 'Germany', 'Ghana', 'Greece', 'Grenada', 'Guatemala',\n",
        "       'Guinea', 'Guinea-Bissau', 'Guyana', 'Haiti', 'Honduras',\n",
        "       'Hungary', 'Iceland', 'India', 'Indonesia',\n",
        "       'Iran (Islamic Republic of)', 'Iraq', 'Ireland', 'Israel', 'Italy',\n",
        "       'Jamaica', 'Japan', 'Jordan', 'Kazakhstan', 'Kenya', 'Kiribati',\n",
        "       'Kuwait', 'Kyrgyzstan', \"Lao People's Democratic Republic\",\n",
        "       'Latvia', 'Lebanon', 'Lesotho', 'Liberia', 'Libya', 'Lithuania',\n",
        "       'Luxembourg', 'Madagascar', 'Malawi', 'Malaysia', 'Maldives',\n",
        "       'Mali', 'Malta', 'Marshall Islands', 'Mauritania', 'Mauritius',\n",
        "       'Mexico', 'Micronesia (Federated States of)', 'Monaco', 'Mongolia',\n",
        "       'Montenegro', 'Morocco', 'Mozambique', 'Myanmar', 'Namibia',\n",
        "       'Nauru', 'Nepal', 'Netherlands', 'New Zealand', 'Nicaragua',\n",
        "       'Niger', 'Nigeria', 'Niue', 'Norway', 'Oman', 'Pakistan', 'Palau',\n",
        "       'Panama', 'Papua New Guinea', 'Paraguay', 'Peru', 'Philippines',\n",
        "       'Poland', 'Portugal', 'Qatar', 'Republic of Korea',\n",
        "       'Republic of Moldova', 'Romania', 'Russian Federation', 'Rwanda',\n",
        "       'Saint Kitts and Nevis', 'Saint Lucia',\n",
        "       'Saint Vincent and the Grenadines', 'Samoa', 'San Marino',\n",
        "       'Sao Tome and Principe', 'Saudi Arabia', 'Senegal', 'Serbia',\n",
        "       'Seychelles', 'Sierra Leone', 'Singapore', 'Slovakia', 'Slovenia',\n",
        "       'Solomon Islands', 'Somalia', 'South Africa', 'South Sudan',\n",
        "       'Spain', 'Sri Lanka', 'Sudan', 'Suriname', 'Swaziland', 'Sweden',\n",
        "       'Switzerland', 'Syrian Arab Republic', 'Tajikistan', 'Thailand',\n",
        "       'The former Yugoslav republic of Macedonia', 'Timor-Leste', 'Togo',\n",
        "       'Tonga', 'Trinidad and Tobago', 'Tunisia', 'Turkey',\n",
        "       'Turkmenistan', 'Tuvalu', 'Uganda', 'Ukraine',\n",
        "       'United Arab Emirates',\n",
        "       'United Kingdom of Great Britain and Northern Ireland',\n",
        "       'United Republic of Tanzania', 'United States of America',\n",
        "       'Uruguay', 'Uzbekistan', 'Vanuatu',\n",
        "       'Venezuela (Bolivarian Republic of)', 'Viet Nam', 'Yemen',\n",
        "       'Zambia', 'Zimbabwe']\n",
        "\n",
        "for i in range(0,len(list1)):\n",
        "    #  <option value=\"1\">Afghanistan</option>\n",
        "    print('<option value=\"'+str(i+1)+'\">'+list1[i]+'</option>')"
      ]
    },
    {
      "cell_type": "code",
      "execution_count": null,
      "metadata": {},
      "outputs": [],
      "source": []
    }
  ],
  "metadata": {
    "colab": {
      "provenance": []
    },
    "kernelspec": {
      "display_name": "Python 3.10.5 64-bit",
      "language": "python",
      "name": "python3"
    },
    "language_info": {
      "codemirror_mode": {
        "name": "ipython",
        "version": 3
      },
      "file_extension": ".py",
      "mimetype": "text/x-python",
      "name": "python",
      "nbconvert_exporter": "python",
      "pygments_lexer": "ipython3",
      "version": "3.10.5"
    },
    "vscode": {
      "interpreter": {
        "hash": "cd54ff46e4251fe0a46f903cca0c8aff900098562f2fe569ebafc85f4881e67a"
      }
    }
  },
  "nbformat": 4,
  "nbformat_minor": 0
}

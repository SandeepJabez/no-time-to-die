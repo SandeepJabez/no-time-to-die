{
  "cells": [
    {
      "cell_type": "markdown",
      "metadata": {
        "id": "HRax_hMw5hLz"
      },
      "source": [
        "## **Importing Libraries**"
      ]
    },
    {
      "cell_type": "code",
      "execution_count": 1,
      "metadata": {
        "id": "Df9GY1vFz_Q7"
      },
      "outputs": [],
      "source": [
        "#basic data science libraries\n",
        "import pandas as pd\n",
        "import numpy as np\n",
        "import matplotlib.pyplot as plt\n",
        "import seaborn as sns \n",
        "import random\n",
        "\n",
        "# libraries for data preprocessing\n",
        "from sklearn.preprocessing import LabelEncoder\n",
        "from sklearn.preprocessing import MinMaxScaler\n",
        "from sklearn.preprocessing import StandardScaler\n",
        "from sklearn.model_selection import train_test_split as tts\n",
        "from sklearn import preprocessing\n",
        "\n",
        "# evaluation libraries\n",
        "from sklearn.metrics import mean_absolute_error,mean_squared_error,r2_score\n",
        "from sklearn.metrics import r2_score\n",
        "from sklearn.metrics import mean_absolute_error\n",
        "from sklearn.metrics import mean_squared_error\n",
        "from sklearn.metrics import accuracy_score\n",
        "\n",
        "\n",
        "#train test split\n",
        "from sklearn.model_selection import train_test_split as tts\n",
        "\n",
        "#model\n",
        "from xgboost import XGBRegressor\n",
        "import xgboost as xgb\n",
        "from sklearn.tree import DecisionTreeRegressor\n",
        "from sklearn.ensemble import RandomForestRegressor\n",
        "from sklearn.linear_model import LinearRegression\n",
        "from xgboost import plot_tree\n",
        "\n",
        "#import model\n",
        "from pickle import dump"
      ]
    },
    {
      "cell_type": "markdown",
      "metadata": {
        "id": "NNg0LmOK60Vs"
      },
      "source": [
        "## Import Dataset"
      ]
    },
    {
      "cell_type": "code",
      "execution_count": 2,
      "metadata": {
        "id": "-JXuXURy0A5c"
      },
      "outputs": [],
      "source": [
        "#read dataset using pandas, and save as pandas DataFrame\n",
        "df = pd.read_csv(\"Life Expectancy Data_HV22.csv\")"
      ]
    },
    {
      "cell_type": "code",
      "execution_count": 3,
      "metadata": {
        "id": "Yp6vzPrt0Jup"
      },
      "outputs": [],
      "source": [
        "#Remove unwanted space from the DataFrame Column names\n",
        "df.columns = df.columns.str.strip()"
      ]
    },
    {
      "cell_type": "code",
      "execution_count": 4,
      "metadata": {
        "colab": {
          "base_uri": "https://localhost:8080/"
        },
        "id": "Mmw2DFbo0KhU",
        "outputId": "9c8be29c-a8c3-4bb2-f41a-bc6474e0d465"
      },
      "outputs": [
        {
          "output_type": "stream",
          "name": "stdout",
          "text": [
            "The column Life expectancy has 10 null values\n",
            "The column Adult Mortality has 10 null values\n",
            "The column Alcohol has 194 null values\n",
            "The column Hepatitis B has 553 null values\n",
            "The column BMI has 34 null values\n",
            "The column Polio has 19 null values\n",
            "The column Total expenditure has 226 null values\n",
            "The column Diphtheria has 19 null values\n",
            "The column GDP has 448 null values\n",
            "The column Population has 652 null values\n",
            "The column thinness  1-19 years has 34 null values\n",
            "The column thinness 5-9 years has 34 null values\n",
            "The column Income composition of resources has 167 null values\n",
            "The column Schooling has 163 null values\n"
          ]
        }
      ],
      "source": [
        "#Find number of null values in each column\n",
        "\n",
        "#Make a list of all columns with null values\n",
        "col_null = df.columns[df.isna().any()].tolist()\n",
        "\n",
        "for i in col_null:\n",
        "    #find total null values in particular column\n",
        "    null = df[i].isna().sum()\n",
        "    null = str(null)\n",
        "    print(\"The column {} has {} null values\".format(i, null))"
      ]
    },
    {
      "cell_type": "markdown",
      "metadata": {
        "id": "Q3ONJ5B87hkM"
      },
      "source": [
        "###**Data Imputation**"
      ]
    },
    {
      "cell_type": "code",
      "execution_count": 5,
      "metadata": {
        "id": "QK8U5ytX0Mh8"
      },
      "outputs": [],
      "source": [
        "#imput data using mean of the respective column\n",
        "for i in col_null:\n",
        "    df[i].fillna((df[i].mean()), inplace=True)"
      ]
    },
    {
      "cell_type": "code",
      "source": [
        "df.head()"
      ],
      "metadata": {
        "colab": {
          "base_uri": "https://localhost:8080/",
          "height": 352
        },
        "id": "nr_iaUaiFpEV",
        "outputId": "1019fa30-1c9b-4662-d243-e45774a9731e"
      },
      "execution_count": 7,
      "outputs": [
        {
          "output_type": "execute_result",
          "data": {
            "text/plain": [
              "       Country  Year      Status  Life expectancy  Adult Mortality  \\\n",
              "0  Afghanistan  2015  Developing             65.0            263.0   \n",
              "1  Afghanistan  2014  Developing             59.9            271.0   \n",
              "2  Afghanistan  2013  Developing             59.9            268.0   \n",
              "3  Afghanistan  2012  Developing             59.5            272.0   \n",
              "4  Afghanistan  2011  Developing             59.2            275.0   \n",
              "\n",
              "   infant deaths  Alcohol  percentage expenditure  Hepatitis B  Measles  ...  \\\n",
              "0             62     0.01               71.279624         65.0     1154  ...   \n",
              "1             64     0.01               73.523582         62.0      492  ...   \n",
              "2             66     0.01               73.219243         64.0      430  ...   \n",
              "3             69     0.01               78.184215         67.0     2787  ...   \n",
              "4             71     0.01                7.097109         68.0     3013  ...   \n",
              "\n",
              "   Polio  Total expenditure  Diphtheria  HIV/AIDS         GDP  Population  \\\n",
              "0    6.0               8.16        65.0       0.1  584.259210  33736494.0   \n",
              "1   58.0               8.18        62.0       0.1  612.696514    327582.0   \n",
              "2   62.0               8.13        64.0       0.1  631.744976  31731688.0   \n",
              "3   67.0               8.52        67.0       0.1  669.959000   3696958.0   \n",
              "4   68.0               7.87        68.0       0.1   63.537231   2978599.0   \n",
              "\n",
              "   thinness  1-19 years  thinness 5-9 years  Income composition of resources  \\\n",
              "0                  17.2                17.3                            0.479   \n",
              "1                  17.5                17.5                            0.476   \n",
              "2                  17.7                17.7                            0.470   \n",
              "3                  17.9                18.0                            0.463   \n",
              "4                  18.2                18.2                            0.454   \n",
              "\n",
              "   Schooling  \n",
              "0       10.1  \n",
              "1       10.0  \n",
              "2        9.9  \n",
              "3        9.8  \n",
              "4        9.5  \n",
              "\n",
              "[5 rows x 22 columns]"
            ],
            "text/html": [
              "\n",
              "  <div id=\"df-ab933b34-58c5-4ce5-934f-7dc5188fa399\">\n",
              "    <div class=\"colab-df-container\">\n",
              "      <div>\n",
              "<style scoped>\n",
              "    .dataframe tbody tr th:only-of-type {\n",
              "        vertical-align: middle;\n",
              "    }\n",
              "\n",
              "    .dataframe tbody tr th {\n",
              "        vertical-align: top;\n",
              "    }\n",
              "\n",
              "    .dataframe thead th {\n",
              "        text-align: right;\n",
              "    }\n",
              "</style>\n",
              "<table border=\"1\" class=\"dataframe\">\n",
              "  <thead>\n",
              "    <tr style=\"text-align: right;\">\n",
              "      <th></th>\n",
              "      <th>Country</th>\n",
              "      <th>Year</th>\n",
              "      <th>Status</th>\n",
              "      <th>Life expectancy</th>\n",
              "      <th>Adult Mortality</th>\n",
              "      <th>infant deaths</th>\n",
              "      <th>Alcohol</th>\n",
              "      <th>percentage expenditure</th>\n",
              "      <th>Hepatitis B</th>\n",
              "      <th>Measles</th>\n",
              "      <th>...</th>\n",
              "      <th>Polio</th>\n",
              "      <th>Total expenditure</th>\n",
              "      <th>Diphtheria</th>\n",
              "      <th>HIV/AIDS</th>\n",
              "      <th>GDP</th>\n",
              "      <th>Population</th>\n",
              "      <th>thinness  1-19 years</th>\n",
              "      <th>thinness 5-9 years</th>\n",
              "      <th>Income composition of resources</th>\n",
              "      <th>Schooling</th>\n",
              "    </tr>\n",
              "  </thead>\n",
              "  <tbody>\n",
              "    <tr>\n",
              "      <th>0</th>\n",
              "      <td>Afghanistan</td>\n",
              "      <td>2015</td>\n",
              "      <td>Developing</td>\n",
              "      <td>65.0</td>\n",
              "      <td>263.0</td>\n",
              "      <td>62</td>\n",
              "      <td>0.01</td>\n",
              "      <td>71.279624</td>\n",
              "      <td>65.0</td>\n",
              "      <td>1154</td>\n",
              "      <td>...</td>\n",
              "      <td>6.0</td>\n",
              "      <td>8.16</td>\n",
              "      <td>65.0</td>\n",
              "      <td>0.1</td>\n",
              "      <td>584.259210</td>\n",
              "      <td>33736494.0</td>\n",
              "      <td>17.2</td>\n",
              "      <td>17.3</td>\n",
              "      <td>0.479</td>\n",
              "      <td>10.1</td>\n",
              "    </tr>\n",
              "    <tr>\n",
              "      <th>1</th>\n",
              "      <td>Afghanistan</td>\n",
              "      <td>2014</td>\n",
              "      <td>Developing</td>\n",
              "      <td>59.9</td>\n",
              "      <td>271.0</td>\n",
              "      <td>64</td>\n",
              "      <td>0.01</td>\n",
              "      <td>73.523582</td>\n",
              "      <td>62.0</td>\n",
              "      <td>492</td>\n",
              "      <td>...</td>\n",
              "      <td>58.0</td>\n",
              "      <td>8.18</td>\n",
              "      <td>62.0</td>\n",
              "      <td>0.1</td>\n",
              "      <td>612.696514</td>\n",
              "      <td>327582.0</td>\n",
              "      <td>17.5</td>\n",
              "      <td>17.5</td>\n",
              "      <td>0.476</td>\n",
              "      <td>10.0</td>\n",
              "    </tr>\n",
              "    <tr>\n",
              "      <th>2</th>\n",
              "      <td>Afghanistan</td>\n",
              "      <td>2013</td>\n",
              "      <td>Developing</td>\n",
              "      <td>59.9</td>\n",
              "      <td>268.0</td>\n",
              "      <td>66</td>\n",
              "      <td>0.01</td>\n",
              "      <td>73.219243</td>\n",
              "      <td>64.0</td>\n",
              "      <td>430</td>\n",
              "      <td>...</td>\n",
              "      <td>62.0</td>\n",
              "      <td>8.13</td>\n",
              "      <td>64.0</td>\n",
              "      <td>0.1</td>\n",
              "      <td>631.744976</td>\n",
              "      <td>31731688.0</td>\n",
              "      <td>17.7</td>\n",
              "      <td>17.7</td>\n",
              "      <td>0.470</td>\n",
              "      <td>9.9</td>\n",
              "    </tr>\n",
              "    <tr>\n",
              "      <th>3</th>\n",
              "      <td>Afghanistan</td>\n",
              "      <td>2012</td>\n",
              "      <td>Developing</td>\n",
              "      <td>59.5</td>\n",
              "      <td>272.0</td>\n",
              "      <td>69</td>\n",
              "      <td>0.01</td>\n",
              "      <td>78.184215</td>\n",
              "      <td>67.0</td>\n",
              "      <td>2787</td>\n",
              "      <td>...</td>\n",
              "      <td>67.0</td>\n",
              "      <td>8.52</td>\n",
              "      <td>67.0</td>\n",
              "      <td>0.1</td>\n",
              "      <td>669.959000</td>\n",
              "      <td>3696958.0</td>\n",
              "      <td>17.9</td>\n",
              "      <td>18.0</td>\n",
              "      <td>0.463</td>\n",
              "      <td>9.8</td>\n",
              "    </tr>\n",
              "    <tr>\n",
              "      <th>4</th>\n",
              "      <td>Afghanistan</td>\n",
              "      <td>2011</td>\n",
              "      <td>Developing</td>\n",
              "      <td>59.2</td>\n",
              "      <td>275.0</td>\n",
              "      <td>71</td>\n",
              "      <td>0.01</td>\n",
              "      <td>7.097109</td>\n",
              "      <td>68.0</td>\n",
              "      <td>3013</td>\n",
              "      <td>...</td>\n",
              "      <td>68.0</td>\n",
              "      <td>7.87</td>\n",
              "      <td>68.0</td>\n",
              "      <td>0.1</td>\n",
              "      <td>63.537231</td>\n",
              "      <td>2978599.0</td>\n",
              "      <td>18.2</td>\n",
              "      <td>18.2</td>\n",
              "      <td>0.454</td>\n",
              "      <td>9.5</td>\n",
              "    </tr>\n",
              "  </tbody>\n",
              "</table>\n",
              "<p>5 rows × 22 columns</p>\n",
              "</div>\n",
              "      <button class=\"colab-df-convert\" onclick=\"convertToInteractive('df-ab933b34-58c5-4ce5-934f-7dc5188fa399')\"\n",
              "              title=\"Convert this dataframe to an interactive table.\"\n",
              "              style=\"display:none;\">\n",
              "        \n",
              "  <svg xmlns=\"http://www.w3.org/2000/svg\" height=\"24px\"viewBox=\"0 0 24 24\"\n",
              "       width=\"24px\">\n",
              "    <path d=\"M0 0h24v24H0V0z\" fill=\"none\"/>\n",
              "    <path d=\"M18.56 5.44l.94 2.06.94-2.06 2.06-.94-2.06-.94-.94-2.06-.94 2.06-2.06.94zm-11 1L8.5 8.5l.94-2.06 2.06-.94-2.06-.94L8.5 2.5l-.94 2.06-2.06.94zm10 10l.94 2.06.94-2.06 2.06-.94-2.06-.94-.94-2.06-.94 2.06-2.06.94z\"/><path d=\"M17.41 7.96l-1.37-1.37c-.4-.4-.92-.59-1.43-.59-.52 0-1.04.2-1.43.59L10.3 9.45l-7.72 7.72c-.78.78-.78 2.05 0 2.83L4 21.41c.39.39.9.59 1.41.59.51 0 1.02-.2 1.41-.59l7.78-7.78 2.81-2.81c.8-.78.8-2.07 0-2.86zM5.41 20L4 18.59l7.72-7.72 1.47 1.35L5.41 20z\"/>\n",
              "  </svg>\n",
              "      </button>\n",
              "      \n",
              "  <style>\n",
              "    .colab-df-container {\n",
              "      display:flex;\n",
              "      flex-wrap:wrap;\n",
              "      gap: 12px;\n",
              "    }\n",
              "\n",
              "    .colab-df-convert {\n",
              "      background-color: #E8F0FE;\n",
              "      border: none;\n",
              "      border-radius: 50%;\n",
              "      cursor: pointer;\n",
              "      display: none;\n",
              "      fill: #1967D2;\n",
              "      height: 32px;\n",
              "      padding: 0 0 0 0;\n",
              "      width: 32px;\n",
              "    }\n",
              "\n",
              "    .colab-df-convert:hover {\n",
              "      background-color: #E2EBFA;\n",
              "      box-shadow: 0px 1px 2px rgba(60, 64, 67, 0.3), 0px 1px 3px 1px rgba(60, 64, 67, 0.15);\n",
              "      fill: #174EA6;\n",
              "    }\n",
              "\n",
              "    [theme=dark] .colab-df-convert {\n",
              "      background-color: #3B4455;\n",
              "      fill: #D2E3FC;\n",
              "    }\n",
              "\n",
              "    [theme=dark] .colab-df-convert:hover {\n",
              "      background-color: #434B5C;\n",
              "      box-shadow: 0px 1px 3px 1px rgba(0, 0, 0, 0.15);\n",
              "      filter: drop-shadow(0px 1px 2px rgba(0, 0, 0, 0.3));\n",
              "      fill: #FFFFFF;\n",
              "    }\n",
              "  </style>\n",
              "\n",
              "      <script>\n",
              "        const buttonEl =\n",
              "          document.querySelector('#df-ab933b34-58c5-4ce5-934f-7dc5188fa399 button.colab-df-convert');\n",
              "        buttonEl.style.display =\n",
              "          google.colab.kernel.accessAllowed ? 'block' : 'none';\n",
              "\n",
              "        async function convertToInteractive(key) {\n",
              "          const element = document.querySelector('#df-ab933b34-58c5-4ce5-934f-7dc5188fa399');\n",
              "          const dataTable =\n",
              "            await google.colab.kernel.invokeFunction('convertToInteractive',\n",
              "                                                     [key], {});\n",
              "          if (!dataTable) return;\n",
              "\n",
              "          const docLinkHtml = 'Like what you see? Visit the ' +\n",
              "            '<a target=\"_blank\" href=https://colab.research.google.com/notebooks/data_table.ipynb>data table notebook</a>'\n",
              "            + ' to learn more about interactive tables.';\n",
              "          element.innerHTML = '';\n",
              "          dataTable['output_type'] = 'display_data';\n",
              "          await google.colab.output.renderOutput(dataTable, element);\n",
              "          const docLink = document.createElement('div');\n",
              "          docLink.innerHTML = docLinkHtml;\n",
              "          element.appendChild(docLink);\n",
              "        }\n",
              "      </script>\n",
              "    </div>\n",
              "  </div>\n",
              "  "
            ]
          },
          "metadata": {},
          "execution_count": 7
        }
      ]
    },
    {
      "cell_type": "markdown",
      "metadata": {
        "id": "_8nmdC6z7uS4"
      },
      "source": [
        "## **Label Encoder**"
      ]
    },
    {
      "cell_type": "code",
      "execution_count": 8,
      "metadata": {
        "colab": {
          "base_uri": "https://localhost:8080/"
        },
        "id": "UgCWWRkaFGR6",
        "outputId": "4014b786-7e15-4337-8cf3-7c47c3f1d59a"
      },
      "outputs": [
        {
          "output_type": "stream",
          "name": "stdout",
          "text": [
            "{'Afghanistan': 1, 'Albania': 2, 'Algeria': 3, 'Angola': 4, 'Antigua and Barbuda': 5, 'Argentina': 6, 'Armenia': 7, 'Australia': 8, 'Austria': 9, 'Azerbaijan': 10, 'Bahamas': 11, 'Bahrain': 12, 'Bangladesh': 13, 'Barbados': 14, 'Belarus': 15, 'Belgium': 16, 'Belize': 17, 'Benin': 18, 'Bhutan': 19, 'Bolivia (Plurinational State of)': 20, 'Bosnia and Herzegovina': 21, 'Botswana': 22, 'Brazil': 23, 'Brunei Darussalam': 24, 'Bulgaria': 25, 'Burkina Faso': 26, 'Burundi': 27, 'Cabo Verde': 28, 'Cambodia': 29, 'Cameroon': 30, 'Canada': 31, 'Central African Republic': 32, 'Chad': 33, 'Chile': 34, 'China': 35, 'Colombia': 36, 'Comoros': 37, 'Congo': 38, 'Cook Islands': 39, 'Costa Rica': 40, 'Croatia': 41, 'Cuba': 42, 'Cyprus': 43, 'Czechia': 44, \"Côte d'Ivoire\": 45, \"Democratic People's Republic of Korea\": 46, 'Democratic Republic of the Congo': 47, 'Denmark': 48, 'Djibouti': 49, 'Dominica': 50, 'Dominican Republic': 51, 'Ecuador': 52, 'Egypt': 53, 'El Salvador': 54, 'Equatorial Guinea': 55, 'Eritrea': 56, 'Estonia': 57, 'Ethiopia': 58, 'Fiji': 59, 'Finland': 60, 'France': 61, 'Gabon': 62, 'Gambia': 63, 'Georgia': 64, 'Germany': 65, 'Ghana': 66, 'Greece': 67, 'Grenada': 68, 'Guatemala': 69, 'Guinea': 70, 'Guinea-Bissau': 71, 'Guyana': 72, 'Haiti': 73, 'Honduras': 74, 'Hungary': 75, 'Iceland': 76, 'India': 77, 'Indonesia': 78, 'Iran (Islamic Republic of)': 79, 'Iraq': 80, 'Ireland': 81, 'Israel': 82, 'Italy': 83, 'Jamaica': 84, 'Japan': 85, 'Jordan': 86, 'Kazakhstan': 87, 'Kenya': 88, 'Kiribati': 89, 'Kuwait': 90, 'Kyrgyzstan': 91, \"Lao People's Democratic Republic\": 92, 'Latvia': 93, 'Lebanon': 94, 'Lesotho': 95, 'Liberia': 96, 'Libya': 97, 'Lithuania': 98, 'Luxembourg': 99, 'Madagascar': 100, 'Malawi': 101, 'Malaysia': 102, 'Maldives': 103, 'Mali': 104, 'Malta': 105, 'Marshall Islands': 106, 'Mauritania': 107, 'Mauritius': 108, 'Mexico': 109, 'Micronesia (Federated States of)': 110, 'Monaco': 111, 'Mongolia': 112, 'Montenegro': 113, 'Morocco': 114, 'Mozambique': 115, 'Myanmar': 116, 'Namibia': 117, 'Nauru': 118, 'Nepal': 119, 'Netherlands': 120, 'New Zealand': 121, 'Nicaragua': 122, 'Niger': 123, 'Nigeria': 124, 'Niue': 125, 'Norway': 126, 'Oman': 127, 'Pakistan': 128, 'Palau': 129, 'Panama': 130, 'Papua New Guinea': 131, 'Paraguay': 132, 'Peru': 133, 'Philippines': 134, 'Poland': 135, 'Portugal': 136, 'Qatar': 137, 'Republic of Korea': 138, 'Republic of Moldova': 139, 'Romania': 140, 'Russian Federation': 141, 'Rwanda': 142, 'Saint Kitts and Nevis': 143, 'Saint Lucia': 144, 'Saint Vincent and the Grenadines': 145, 'Samoa': 146, 'San Marino': 147, 'Sao Tome and Principe': 148, 'Saudi Arabia': 149, 'Senegal': 150, 'Serbia': 151, 'Seychelles': 152, 'Sierra Leone': 153, 'Singapore': 154, 'Slovakia': 155, 'Slovenia': 156, 'Solomon Islands': 157, 'Somalia': 158, 'South Africa': 159, 'South Sudan': 160, 'Spain': 161, 'Sri Lanka': 162, 'Sudan': 163, 'Suriname': 164, 'Swaziland': 165, 'Sweden': 166, 'Switzerland': 167, 'Syrian Arab Republic': 168, 'Tajikistan': 169, 'Thailand': 170, 'The former Yugoslav republic of Macedonia': 171, 'Timor-Leste': 172, 'Togo': 173, 'Tonga': 174, 'Trinidad and Tobago': 175, 'Tunisia': 176, 'Turkey': 177, 'Turkmenistan': 178, 'Tuvalu': 179, 'Uganda': 180, 'Ukraine': 181, 'United Arab Emirates': 182, 'United Kingdom of Great Britain and Northern Ireland': 183, 'United Republic of Tanzania': 184, 'United States of America': 185, 'Uruguay': 186, 'Uzbekistan': 187, 'Vanuatu': 188, 'Venezuela (Bolivarian Republic of)': 189, 'Viet Nam': 190, 'Yemen': 191, 'Zambia': 192, 'Zimbabwe': 193}\n"
          ]
        }
      ],
      "source": [
        "le = preprocessing.LabelEncoder()\n",
        "df['Country'] = le.fit_transform(df['Country'])\n",
        "\n",
        "mapping = dict(zip(le.classes_, range(1, len(le.classes_)+1)))\n",
        "print(mapping)"
      ]
    },
    {
      "cell_type": "code",
      "execution_count": 9,
      "metadata": {
        "colab": {
          "base_uri": "https://localhost:8080/",
          "height": 352
        },
        "id": "FNQSryx1FGSC",
        "outputId": "51c3e9e5-6e92-47f4-b936-b6b2f2d7c4e4"
      },
      "outputs": [
        {
          "output_type": "execute_result",
          "data": {
            "text/plain": [
              "   Country  Year      Status  Life expectancy  Adult Mortality  infant deaths  \\\n",
              "0        0  2015  Developing             65.0            263.0             62   \n",
              "1        0  2014  Developing             59.9            271.0             64   \n",
              "2        0  2013  Developing             59.9            268.0             66   \n",
              "3        0  2012  Developing             59.5            272.0             69   \n",
              "4        0  2011  Developing             59.2            275.0             71   \n",
              "\n",
              "   Alcohol  percentage expenditure  Hepatitis B  Measles  ...  Polio  \\\n",
              "0     0.01               71.279624         65.0     1154  ...    6.0   \n",
              "1     0.01               73.523582         62.0      492  ...   58.0   \n",
              "2     0.01               73.219243         64.0      430  ...   62.0   \n",
              "3     0.01               78.184215         67.0     2787  ...   67.0   \n",
              "4     0.01                7.097109         68.0     3013  ...   68.0   \n",
              "\n",
              "   Total expenditure  Diphtheria  HIV/AIDS         GDP  Population  \\\n",
              "0               8.16        65.0       0.1  584.259210  33736494.0   \n",
              "1               8.18        62.0       0.1  612.696514    327582.0   \n",
              "2               8.13        64.0       0.1  631.744976  31731688.0   \n",
              "3               8.52        67.0       0.1  669.959000   3696958.0   \n",
              "4               7.87        68.0       0.1   63.537231   2978599.0   \n",
              "\n",
              "   thinness  1-19 years  thinness 5-9 years  Income composition of resources  \\\n",
              "0                  17.2                17.3                            0.479   \n",
              "1                  17.5                17.5                            0.476   \n",
              "2                  17.7                17.7                            0.470   \n",
              "3                  17.9                18.0                            0.463   \n",
              "4                  18.2                18.2                            0.454   \n",
              "\n",
              "   Schooling  \n",
              "0       10.1  \n",
              "1       10.0  \n",
              "2        9.9  \n",
              "3        9.8  \n",
              "4        9.5  \n",
              "\n",
              "[5 rows x 22 columns]"
            ],
            "text/html": [
              "\n",
              "  <div id=\"df-5050b294-c746-4685-abe6-0e721f755350\">\n",
              "    <div class=\"colab-df-container\">\n",
              "      <div>\n",
              "<style scoped>\n",
              "    .dataframe tbody tr th:only-of-type {\n",
              "        vertical-align: middle;\n",
              "    }\n",
              "\n",
              "    .dataframe tbody tr th {\n",
              "        vertical-align: top;\n",
              "    }\n",
              "\n",
              "    .dataframe thead th {\n",
              "        text-align: right;\n",
              "    }\n",
              "</style>\n",
              "<table border=\"1\" class=\"dataframe\">\n",
              "  <thead>\n",
              "    <tr style=\"text-align: right;\">\n",
              "      <th></th>\n",
              "      <th>Country</th>\n",
              "      <th>Year</th>\n",
              "      <th>Status</th>\n",
              "      <th>Life expectancy</th>\n",
              "      <th>Adult Mortality</th>\n",
              "      <th>infant deaths</th>\n",
              "      <th>Alcohol</th>\n",
              "      <th>percentage expenditure</th>\n",
              "      <th>Hepatitis B</th>\n",
              "      <th>Measles</th>\n",
              "      <th>...</th>\n",
              "      <th>Polio</th>\n",
              "      <th>Total expenditure</th>\n",
              "      <th>Diphtheria</th>\n",
              "      <th>HIV/AIDS</th>\n",
              "      <th>GDP</th>\n",
              "      <th>Population</th>\n",
              "      <th>thinness  1-19 years</th>\n",
              "      <th>thinness 5-9 years</th>\n",
              "      <th>Income composition of resources</th>\n",
              "      <th>Schooling</th>\n",
              "    </tr>\n",
              "  </thead>\n",
              "  <tbody>\n",
              "    <tr>\n",
              "      <th>0</th>\n",
              "      <td>0</td>\n",
              "      <td>2015</td>\n",
              "      <td>Developing</td>\n",
              "      <td>65.0</td>\n",
              "      <td>263.0</td>\n",
              "      <td>62</td>\n",
              "      <td>0.01</td>\n",
              "      <td>71.279624</td>\n",
              "      <td>65.0</td>\n",
              "      <td>1154</td>\n",
              "      <td>...</td>\n",
              "      <td>6.0</td>\n",
              "      <td>8.16</td>\n",
              "      <td>65.0</td>\n",
              "      <td>0.1</td>\n",
              "      <td>584.259210</td>\n",
              "      <td>33736494.0</td>\n",
              "      <td>17.2</td>\n",
              "      <td>17.3</td>\n",
              "      <td>0.479</td>\n",
              "      <td>10.1</td>\n",
              "    </tr>\n",
              "    <tr>\n",
              "      <th>1</th>\n",
              "      <td>0</td>\n",
              "      <td>2014</td>\n",
              "      <td>Developing</td>\n",
              "      <td>59.9</td>\n",
              "      <td>271.0</td>\n",
              "      <td>64</td>\n",
              "      <td>0.01</td>\n",
              "      <td>73.523582</td>\n",
              "      <td>62.0</td>\n",
              "      <td>492</td>\n",
              "      <td>...</td>\n",
              "      <td>58.0</td>\n",
              "      <td>8.18</td>\n",
              "      <td>62.0</td>\n",
              "      <td>0.1</td>\n",
              "      <td>612.696514</td>\n",
              "      <td>327582.0</td>\n",
              "      <td>17.5</td>\n",
              "      <td>17.5</td>\n",
              "      <td>0.476</td>\n",
              "      <td>10.0</td>\n",
              "    </tr>\n",
              "    <tr>\n",
              "      <th>2</th>\n",
              "      <td>0</td>\n",
              "      <td>2013</td>\n",
              "      <td>Developing</td>\n",
              "      <td>59.9</td>\n",
              "      <td>268.0</td>\n",
              "      <td>66</td>\n",
              "      <td>0.01</td>\n",
              "      <td>73.219243</td>\n",
              "      <td>64.0</td>\n",
              "      <td>430</td>\n",
              "      <td>...</td>\n",
              "      <td>62.0</td>\n",
              "      <td>8.13</td>\n",
              "      <td>64.0</td>\n",
              "      <td>0.1</td>\n",
              "      <td>631.744976</td>\n",
              "      <td>31731688.0</td>\n",
              "      <td>17.7</td>\n",
              "      <td>17.7</td>\n",
              "      <td>0.470</td>\n",
              "      <td>9.9</td>\n",
              "    </tr>\n",
              "    <tr>\n",
              "      <th>3</th>\n",
              "      <td>0</td>\n",
              "      <td>2012</td>\n",
              "      <td>Developing</td>\n",
              "      <td>59.5</td>\n",
              "      <td>272.0</td>\n",
              "      <td>69</td>\n",
              "      <td>0.01</td>\n",
              "      <td>78.184215</td>\n",
              "      <td>67.0</td>\n",
              "      <td>2787</td>\n",
              "      <td>...</td>\n",
              "      <td>67.0</td>\n",
              "      <td>8.52</td>\n",
              "      <td>67.0</td>\n",
              "      <td>0.1</td>\n",
              "      <td>669.959000</td>\n",
              "      <td>3696958.0</td>\n",
              "      <td>17.9</td>\n",
              "      <td>18.0</td>\n",
              "      <td>0.463</td>\n",
              "      <td>9.8</td>\n",
              "    </tr>\n",
              "    <tr>\n",
              "      <th>4</th>\n",
              "      <td>0</td>\n",
              "      <td>2011</td>\n",
              "      <td>Developing</td>\n",
              "      <td>59.2</td>\n",
              "      <td>275.0</td>\n",
              "      <td>71</td>\n",
              "      <td>0.01</td>\n",
              "      <td>7.097109</td>\n",
              "      <td>68.0</td>\n",
              "      <td>3013</td>\n",
              "      <td>...</td>\n",
              "      <td>68.0</td>\n",
              "      <td>7.87</td>\n",
              "      <td>68.0</td>\n",
              "      <td>0.1</td>\n",
              "      <td>63.537231</td>\n",
              "      <td>2978599.0</td>\n",
              "      <td>18.2</td>\n",
              "      <td>18.2</td>\n",
              "      <td>0.454</td>\n",
              "      <td>9.5</td>\n",
              "    </tr>\n",
              "  </tbody>\n",
              "</table>\n",
              "<p>5 rows × 22 columns</p>\n",
              "</div>\n",
              "      <button class=\"colab-df-convert\" onclick=\"convertToInteractive('df-5050b294-c746-4685-abe6-0e721f755350')\"\n",
              "              title=\"Convert this dataframe to an interactive table.\"\n",
              "              style=\"display:none;\">\n",
              "        \n",
              "  <svg xmlns=\"http://www.w3.org/2000/svg\" height=\"24px\"viewBox=\"0 0 24 24\"\n",
              "       width=\"24px\">\n",
              "    <path d=\"M0 0h24v24H0V0z\" fill=\"none\"/>\n",
              "    <path d=\"M18.56 5.44l.94 2.06.94-2.06 2.06-.94-2.06-.94-.94-2.06-.94 2.06-2.06.94zm-11 1L8.5 8.5l.94-2.06 2.06-.94-2.06-.94L8.5 2.5l-.94 2.06-2.06.94zm10 10l.94 2.06.94-2.06 2.06-.94-2.06-.94-.94-2.06-.94 2.06-2.06.94z\"/><path d=\"M17.41 7.96l-1.37-1.37c-.4-.4-.92-.59-1.43-.59-.52 0-1.04.2-1.43.59L10.3 9.45l-7.72 7.72c-.78.78-.78 2.05 0 2.83L4 21.41c.39.39.9.59 1.41.59.51 0 1.02-.2 1.41-.59l7.78-7.78 2.81-2.81c.8-.78.8-2.07 0-2.86zM5.41 20L4 18.59l7.72-7.72 1.47 1.35L5.41 20z\"/>\n",
              "  </svg>\n",
              "      </button>\n",
              "      \n",
              "  <style>\n",
              "    .colab-df-container {\n",
              "      display:flex;\n",
              "      flex-wrap:wrap;\n",
              "      gap: 12px;\n",
              "    }\n",
              "\n",
              "    .colab-df-convert {\n",
              "      background-color: #E8F0FE;\n",
              "      border: none;\n",
              "      border-radius: 50%;\n",
              "      cursor: pointer;\n",
              "      display: none;\n",
              "      fill: #1967D2;\n",
              "      height: 32px;\n",
              "      padding: 0 0 0 0;\n",
              "      width: 32px;\n",
              "    }\n",
              "\n",
              "    .colab-df-convert:hover {\n",
              "      background-color: #E2EBFA;\n",
              "      box-shadow: 0px 1px 2px rgba(60, 64, 67, 0.3), 0px 1px 3px 1px rgba(60, 64, 67, 0.15);\n",
              "      fill: #174EA6;\n",
              "    }\n",
              "\n",
              "    [theme=dark] .colab-df-convert {\n",
              "      background-color: #3B4455;\n",
              "      fill: #D2E3FC;\n",
              "    }\n",
              "\n",
              "    [theme=dark] .colab-df-convert:hover {\n",
              "      background-color: #434B5C;\n",
              "      box-shadow: 0px 1px 3px 1px rgba(0, 0, 0, 0.15);\n",
              "      filter: drop-shadow(0px 1px 2px rgba(0, 0, 0, 0.3));\n",
              "      fill: #FFFFFF;\n",
              "    }\n",
              "  </style>\n",
              "\n",
              "      <script>\n",
              "        const buttonEl =\n",
              "          document.querySelector('#df-5050b294-c746-4685-abe6-0e721f755350 button.colab-df-convert');\n",
              "        buttonEl.style.display =\n",
              "          google.colab.kernel.accessAllowed ? 'block' : 'none';\n",
              "\n",
              "        async function convertToInteractive(key) {\n",
              "          const element = document.querySelector('#df-5050b294-c746-4685-abe6-0e721f755350');\n",
              "          const dataTable =\n",
              "            await google.colab.kernel.invokeFunction('convertToInteractive',\n",
              "                                                     [key], {});\n",
              "          if (!dataTable) return;\n",
              "\n",
              "          const docLinkHtml = 'Like what you see? Visit the ' +\n",
              "            '<a target=\"_blank\" href=https://colab.research.google.com/notebooks/data_table.ipynb>data table notebook</a>'\n",
              "            + ' to learn more about interactive tables.';\n",
              "          element.innerHTML = '';\n",
              "          dataTable['output_type'] = 'display_data';\n",
              "          await google.colab.output.renderOutput(dataTable, element);\n",
              "          const docLink = document.createElement('div');\n",
              "          docLink.innerHTML = docLinkHtml;\n",
              "          element.appendChild(docLink);\n",
              "        }\n",
              "      </script>\n",
              "    </div>\n",
              "  </div>\n",
              "  "
            ]
          },
          "metadata": {},
          "execution_count": 9
        }
      ],
      "source": [
        "df.head()"
      ]
    },
    {
      "cell_type": "markdown",
      "metadata": {
        "id": "oukTyhiX-EPo"
      },
      "source": [
        "## **Train, Test Split**"
      ]
    },
    {
      "cell_type": "code",
      "execution_count": 10,
      "metadata": {
        "colab": {
          "base_uri": "https://localhost:8080/",
          "height": 206
        },
        "id": "zQNELyBc0yt9",
        "outputId": "24341678-4ca1-4438-a19d-c608a887c2e4"
      },
      "outputs": [
        {
          "output_type": "execute_result",
          "data": {
            "text/plain": [
              "      Income composition of resources  Country  Adult Mortality   BMI  \\\n",
              "1801                            0.604      116            299.0  31.8   \n",
              "2543                            0.648      167            124.0  51.3   \n",
              "2936                            0.427      192            686.0  25.9   \n",
              "115                             0.930        7             61.0  65.0   \n",
              "1330                            0.741       85            112.0  65.6   \n",
              "\n",
              "      HIV/AIDS  Schooling  \n",
              "1801       6.2       11.4  \n",
              "2543       0.1       11.8  \n",
              "2936      42.1        9.8  \n",
              "115        0.1       20.1  \n",
              "1330       0.1       13.1  "
            ],
            "text/html": [
              "\n",
              "  <div id=\"df-f437c739-2ab7-4923-b34e-da01dae93fbb\">\n",
              "    <div class=\"colab-df-container\">\n",
              "      <div>\n",
              "<style scoped>\n",
              "    .dataframe tbody tr th:only-of-type {\n",
              "        vertical-align: middle;\n",
              "    }\n",
              "\n",
              "    .dataframe tbody tr th {\n",
              "        vertical-align: top;\n",
              "    }\n",
              "\n",
              "    .dataframe thead th {\n",
              "        text-align: right;\n",
              "    }\n",
              "</style>\n",
              "<table border=\"1\" class=\"dataframe\">\n",
              "  <thead>\n",
              "    <tr style=\"text-align: right;\">\n",
              "      <th></th>\n",
              "      <th>Income composition of resources</th>\n",
              "      <th>Country</th>\n",
              "      <th>Adult Mortality</th>\n",
              "      <th>BMI</th>\n",
              "      <th>HIV/AIDS</th>\n",
              "      <th>Schooling</th>\n",
              "    </tr>\n",
              "  </thead>\n",
              "  <tbody>\n",
              "    <tr>\n",
              "      <th>1801</th>\n",
              "      <td>0.604</td>\n",
              "      <td>116</td>\n",
              "      <td>299.0</td>\n",
              "      <td>31.8</td>\n",
              "      <td>6.2</td>\n",
              "      <td>11.4</td>\n",
              "    </tr>\n",
              "    <tr>\n",
              "      <th>2543</th>\n",
              "      <td>0.648</td>\n",
              "      <td>167</td>\n",
              "      <td>124.0</td>\n",
              "      <td>51.3</td>\n",
              "      <td>0.1</td>\n",
              "      <td>11.8</td>\n",
              "    </tr>\n",
              "    <tr>\n",
              "      <th>2936</th>\n",
              "      <td>0.427</td>\n",
              "      <td>192</td>\n",
              "      <td>686.0</td>\n",
              "      <td>25.9</td>\n",
              "      <td>42.1</td>\n",
              "      <td>9.8</td>\n",
              "    </tr>\n",
              "    <tr>\n",
              "      <th>115</th>\n",
              "      <td>0.930</td>\n",
              "      <td>7</td>\n",
              "      <td>61.0</td>\n",
              "      <td>65.0</td>\n",
              "      <td>0.1</td>\n",
              "      <td>20.1</td>\n",
              "    </tr>\n",
              "    <tr>\n",
              "      <th>1330</th>\n",
              "      <td>0.741</td>\n",
              "      <td>85</td>\n",
              "      <td>112.0</td>\n",
              "      <td>65.6</td>\n",
              "      <td>0.1</td>\n",
              "      <td>13.1</td>\n",
              "    </tr>\n",
              "  </tbody>\n",
              "</table>\n",
              "</div>\n",
              "      <button class=\"colab-df-convert\" onclick=\"convertToInteractive('df-f437c739-2ab7-4923-b34e-da01dae93fbb')\"\n",
              "              title=\"Convert this dataframe to an interactive table.\"\n",
              "              style=\"display:none;\">\n",
              "        \n",
              "  <svg xmlns=\"http://www.w3.org/2000/svg\" height=\"24px\"viewBox=\"0 0 24 24\"\n",
              "       width=\"24px\">\n",
              "    <path d=\"M0 0h24v24H0V0z\" fill=\"none\"/>\n",
              "    <path d=\"M18.56 5.44l.94 2.06.94-2.06 2.06-.94-2.06-.94-.94-2.06-.94 2.06-2.06.94zm-11 1L8.5 8.5l.94-2.06 2.06-.94-2.06-.94L8.5 2.5l-.94 2.06-2.06.94zm10 10l.94 2.06.94-2.06 2.06-.94-2.06-.94-.94-2.06-.94 2.06-2.06.94z\"/><path d=\"M17.41 7.96l-1.37-1.37c-.4-.4-.92-.59-1.43-.59-.52 0-1.04.2-1.43.59L10.3 9.45l-7.72 7.72c-.78.78-.78 2.05 0 2.83L4 21.41c.39.39.9.59 1.41.59.51 0 1.02-.2 1.41-.59l7.78-7.78 2.81-2.81c.8-.78.8-2.07 0-2.86zM5.41 20L4 18.59l7.72-7.72 1.47 1.35L5.41 20z\"/>\n",
              "  </svg>\n",
              "      </button>\n",
              "      \n",
              "  <style>\n",
              "    .colab-df-container {\n",
              "      display:flex;\n",
              "      flex-wrap:wrap;\n",
              "      gap: 12px;\n",
              "    }\n",
              "\n",
              "    .colab-df-convert {\n",
              "      background-color: #E8F0FE;\n",
              "      border: none;\n",
              "      border-radius: 50%;\n",
              "      cursor: pointer;\n",
              "      display: none;\n",
              "      fill: #1967D2;\n",
              "      height: 32px;\n",
              "      padding: 0 0 0 0;\n",
              "      width: 32px;\n",
              "    }\n",
              "\n",
              "    .colab-df-convert:hover {\n",
              "      background-color: #E2EBFA;\n",
              "      box-shadow: 0px 1px 2px rgba(60, 64, 67, 0.3), 0px 1px 3px 1px rgba(60, 64, 67, 0.15);\n",
              "      fill: #174EA6;\n",
              "    }\n",
              "\n",
              "    [theme=dark] .colab-df-convert {\n",
              "      background-color: #3B4455;\n",
              "      fill: #D2E3FC;\n",
              "    }\n",
              "\n",
              "    [theme=dark] .colab-df-convert:hover {\n",
              "      background-color: #434B5C;\n",
              "      box-shadow: 0px 1px 3px 1px rgba(0, 0, 0, 0.15);\n",
              "      filter: drop-shadow(0px 1px 2px rgba(0, 0, 0, 0.3));\n",
              "      fill: #FFFFFF;\n",
              "    }\n",
              "  </style>\n",
              "\n",
              "      <script>\n",
              "        const buttonEl =\n",
              "          document.querySelector('#df-f437c739-2ab7-4923-b34e-da01dae93fbb button.colab-df-convert');\n",
              "        buttonEl.style.display =\n",
              "          google.colab.kernel.accessAllowed ? 'block' : 'none';\n",
              "\n",
              "        async function convertToInteractive(key) {\n",
              "          const element = document.querySelector('#df-f437c739-2ab7-4923-b34e-da01dae93fbb');\n",
              "          const dataTable =\n",
              "            await google.colab.kernel.invokeFunction('convertToInteractive',\n",
              "                                                     [key], {});\n",
              "          if (!dataTable) return;\n",
              "\n",
              "          const docLinkHtml = 'Like what you see? Visit the ' +\n",
              "            '<a target=\"_blank\" href=https://colab.research.google.com/notebooks/data_table.ipynb>data table notebook</a>'\n",
              "            + ' to learn more about interactive tables.';\n",
              "          element.innerHTML = '';\n",
              "          dataTable['output_type'] = 'display_data';\n",
              "          await google.colab.output.renderOutput(dataTable, element);\n",
              "          const docLink = document.createElement('div');\n",
              "          docLink.innerHTML = docLinkHtml;\n",
              "          element.appendChild(docLink);\n",
              "        }\n",
              "      </script>\n",
              "    </div>\n",
              "  </div>\n",
              "  "
            ]
          },
          "metadata": {},
          "execution_count": 10
        }
      ],
      "source": [
        "#Dimensionality Reduction using Natural Neural Network to choose X and y\n",
        "X = df[['Income composition of resources','Country','Adult Mortality','BMI','HIV/AIDS','Schooling']]\n",
        "y = df['Life expectancy']\n",
        "\n",
        "#Train, Test Split on X, y with 40% of data on test split\n",
        "X_train, X_test, y_train, y_test = tts(X, y, test_size=0.4, random_state=42)\n",
        "\n",
        "#Display X_Train\n",
        "X_train.head()"
      ]
    },
    {
      "cell_type": "markdown",
      "metadata": {
        "id": "MXvOed55-uGk"
      },
      "source": [
        "## **Modelling**"
      ]
    },
    {
      "cell_type": "code",
      "execution_count": 11,
      "metadata": {
        "colab": {
          "base_uri": "https://localhost:8080/"
        },
        "id": "a44gb6NKCddU",
        "outputId": "596e995c-f663-42a5-fc83-2fb796e0341d"
      },
      "outputs": [
        {
          "output_type": "stream",
          "name": "stdout",
          "text": [
            "LinearRegression()\n",
            "rmse:  4.5040632847357305\n",
            "mae:  3.2376139251137683\n",
            "r2 score:  0.7786092402021241\n",
            "\n",
            "RandomForestRegressor()\n",
            "rmse:  1.9239729754398358\n",
            "mae:  1.2302775529952397\n",
            "r2 score:  0.9596030610611049\n",
            "\n",
            "[03:18:26] WARNING: /workspace/src/objective/regression_obj.cu:152: reg:linear is now deprecated in favor of reg:squarederror.\n",
            "XGBRegressor()\n",
            "rmse:  2.387351589007023\n",
            "mae:  1.7418349921297869\n",
            "r2 score:  0.937801016288871\n",
            "\n",
            "DecisionTreeRegressor()\n",
            "rmse:  2.7009269747202125\n",
            "mae:  1.6171556703282404\n",
            "r2 score:  0.9203884265690265\n",
            "\n"
          ]
        }
      ],
      "source": [
        "#compare different models\n",
        "models = [LinearRegression(),RandomForestRegressor(),XGBRegressor(),DecisionTreeRegressor()]\n",
        "models_s = ['Linear Regression','Random Forest Regressor','XGB Regressor','Decision Tree Regressor']\n",
        "\n",
        "r2_s= []\n",
        "for model in models:\n",
        "    model.fit(X_train, y_train)\n",
        "    y_pred = model.predict(X_test)\n",
        "    mse = mean_squared_error(y_test, y_pred)\n",
        "    mae = mean_absolute_error(y_test, y_pred)\n",
        "    r2 = r2_score(y_test, y_pred)\n",
        "    print(model)\n",
        "    print(\"rmse: \",np.sqrt(mse))\n",
        "    print(\"mae: \",mae)\n",
        "    print(\"r2 score: \",r2)\n",
        "    print()\n",
        "    r2_s.append(float(r2))"
      ]
    },
    {
      "cell_type": "code",
      "execution_count": 12,
      "metadata": {
        "colab": {
          "base_uri": "https://localhost:8080/",
          "height": 350
        },
        "id": "pjmv0JtSD-IW",
        "outputId": "7e002d93-77a6-47ce-d0e2-ba64b1be4cf3"
      },
      "outputs": [
        {
          "output_type": "display_data",
          "data": {
            "text/plain": [
              "<Figure size 720x360 with 1 Axes>"
            ],
            "image/png": "[encoded data removed]"
          },
          "metadata": {
            "needs_background": "light"
          }
        }
      ],
      "source": [
        "fig = plt.figure(figsize = (10, 5))\n",
        "\n",
        "# creating the bar plot\n",
        "plt.bar(models_s, r2_s, color ='maroon', width = 0.4)\n",
        "plt.plot(models_s, r2_s, color ='black')\n",
        "\n",
        "plt.xlabel(\"Algorithms\")\n",
        "plt.ylabel(\"R Square\")\n",
        "plt.title(\"R Square for different Algorithms\")\n",
        "\n",
        "plt.show()"
      ]
    },
    {
      "cell_type": "markdown",
      "metadata": {
        "id": "YStejNF_Fn6S"
      },
      "source": [
        "We use Random Forest Regressor because it gives the most R Square and lease RMSE."
      ]
    },
    {
      "cell_type": "code",
      "execution_count": 13,
      "metadata": {
        "colab": {
          "base_uri": "https://localhost:8080/"
        },
        "id": "2ZFmXXMD00yI",
        "outputId": "f2bbb7a8-baba-47ed-909c-492b8103eba5"
      },
      "outputs": [
        {
          "output_type": "stream",
          "name": "stdout",
          "text": [
            "[03:19:27] WARNING: /workspace/src/objective/regression_obj.cu:152: reg:linear is now deprecated in favor of reg:squarederror.\n",
            "rmse:  1.7311307052781564\n",
            "r2 score:  0.9672952945603658\n"
          ]
        }
      ],
      "source": [
        "#Initialise XGBoost Model\n",
        "# create an xgboost regression model\n",
        "model = XGBRegressor(n_estimators=1000, max_depth=7, eta=0.1, subsample=0.7, colsample_bytree=0.8)\n",
        "model.fit(X_train, y_train)\n",
        "y_pred = model.predict(X_test)\n",
        "mse = mean_squared_error(y_test, y_pred)\n",
        "r2 = r2_score(y_test, y_pred)\n",
        "\n",
        "#print accuracy scores\n",
        "print(\"rmse: \",np.sqrt(mse))\n",
        "print(\"r2 score: \",r2)"
      ]
    },
    {
      "cell_type": "code",
      "execution_count": 14,
      "metadata": {
        "id": "1TD33cuN06zk"
      },
      "outputs": [],
      "source": [
        "#Dump model to pickle file\n",
        "dump(model, open('model.pkl', 'wb'))"
      ]
    },
    {
      "cell_type": "markdown",
      "source": [
        "## **Model Predictionw with User Input**"
      ],
      "metadata": {
        "id": "IUd-MYyBGR3r"
      }
    },
    {
      "cell_type": "code",
      "execution_count": 15,
      "metadata": {
        "colab": {
          "base_uri": "https://localhost:8080/"
        },
        "id": "rWZoPye9FGSJ",
        "outputId": "5d66f18e-3865-4ec6-84cd-c7835aa87aa9"
      },
      "outputs": [
        {
          "name": "stdout",
          "output_type": "stream",
          "text": [
            "Enter  Income composition of resources\n",
            "0.479\n",
            "Enter  Country\n",
            "Afghanistan\n",
            "Enter  Adult Mortality\n",
            "0.41\n",
            "Enter  BMI\n",
            "1.4\n",
            "Enter  HIV/AIDS\n",
            "2.4\n",
            "Enter  Schooling\n",
            "2.2\n"
          ]
        }
      ],
      "source": [
        "features = ['Income composition of resources','Country','Adult Mortality','BMI','HIV/AIDS','Schooling']\n",
        "#take input from user\n",
        "inp=[]\n",
        "for i in (features):\n",
        "    print(\"Enter \",i)\n",
        "    a=input()\n",
        "    inp.append(a)\n",
        "  "
      ]
    },
    {
      "cell_type": "code",
      "execution_count": 16,
      "metadata": {
        "colab": {
          "base_uri": "https://localhost:8080/"
        },
        "id": "z6JT7KLgFGSK",
        "outputId": "bb2db823-9c10-4b7b-e006-e4eef1ef1118"
      },
      "outputs": [
        {
          "output_type": "execute_result",
          "data": {
            "text/plain": [
              "1"
            ]
          },
          "metadata": {},
          "execution_count": 16
        }
      ],
      "source": [
        "#get the inverse transform of label encoded Country column\n",
        "c=mapping.get(inp[1])\n",
        "inp[1]=c\n"
      ]
    },
    {
      "cell_type": "code",
      "execution_count": 17,
      "metadata": {
        "id": "AslijLCNFGSL"
      },
      "outputs": [],
      "source": [
        "inp=[float(i) for i in inp]"
      ]
    },
    {
      "cell_type": "code",
      "execution_count": 18,
      "metadata": {
        "colab": {
          "base_uri": "https://localhost:8080/"
        },
        "id": "ghTioK9CFGSL",
        "outputId": "aad73288-b995-4f4c-fd14-2d3b1535a444"
      },
      "outputs": [
        {
          "output_type": "stream",
          "name": "stdout",
          "text": [
            "   Income composition of resources  Country  Adult Mortality  BMI  HIV/AIDS  \\\n",
            "0                            0.479      1.0             0.41  1.4       2.4   \n",
            "\n",
            "   Schooling  \n",
            "0        2.2  \n"
          ]
        }
      ],
      "source": [
        "#make dataset \n",
        "finalInput=pd.DataFrame(data = inp)\n",
        "finalInput = finalInput.T\n",
        "\n",
        "#rename columns to make it easier to predict\n",
        "finalInput.rename(columns = {0:'Income composition of resources'}, inplace = True)\n",
        "finalInput.rename(columns = {1:'Country'}, inplace = True)\n",
        "finalInput.rename(columns = {2:'Adult Mortality'}, inplace = True)\n",
        "finalInput.rename(columns = {3:'BMI'}, inplace = True)\n",
        "finalInput.rename(columns = {4:'HIV/AIDS'}, inplace = True)\n",
        "finalInput.rename(columns = {5:'Schooling'}, inplace = True)\n",
        "\n",
        "print(finalInput)"
      ]
    },
    {
      "cell_type": "code",
      "execution_count": 19,
      "metadata": {
        "id": "qF1wdvNrFGSN"
      },
      "outputs": [],
      "source": [
        "#predict using the user input\n",
        "y_pred = model.predict(finalInput)"
      ]
    },
    {
      "cell_type": "code",
      "execution_count": 23,
      "metadata": {
        "colab": {
          "base_uri": "https://localhost:8080/"
        },
        "id": "CWehGeH1FGSO",
        "outputId": "39c5c667-6a17-4043-a36a-735adefe9f59"
      },
      "outputs": [
        {
          "output_type": "stream",
          "name": "stdout",
          "text": [
            "Your Life Expectancy is 54\n"
          ]
        }
      ],
      "source": [
        "print(\"Your Life Expectancy is {}\".format(round(y_pred[0])))"
      ]
    }
  ],
  "metadata": {
    "colab": {
      "provenance": []
    },
    "kernelspec": {
      "display_name": "Python 3",
      "language": "python",
      "name": "python3"
    },
    "language_info": {
      "codemirror_mode": {
        "name": "ipython",
        "version": 3
      },
      "file_extension": ".py",
      "mimetype": "text/x-python",
      "name": "python",
      "nbconvert_exporter": "python",
      "pygments_lexer": "ipython3",
      "version": "3.8.3"
    }
  },
  "nbformat": 4,
  "nbformat_minor": 0
}